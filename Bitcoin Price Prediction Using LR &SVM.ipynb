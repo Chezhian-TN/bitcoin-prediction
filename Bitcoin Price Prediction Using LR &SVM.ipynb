{
 "cells": [
  {
   "cell_type": "code",
   "execution_count": 1,
   "metadata": {},
   "outputs": [],
   "source": [
    "import numpy as np\n",
    "import matplotlib.pyplot as plt \n",
    "import pandas as pd\n",
    "import matplotlib.pyplot as plt\n",
    "import seaborn as sns\n",
    "from sklearn.model_selection import train_test_split as tts\n",
    "from sklearn.metrics import mean_squared_error"
   ]
  },
  {
   "cell_type": "code",
   "execution_count": 2,
   "metadata": {},
   "outputs": [],
   "source": [
    "data = pd.read_csv('Bitcoin Historical Data - Investing.com India (1).csv', date_parser = True)\n",
    "data.tail()\n",
    "data.dropna(inplace = True)"
   ]
  },
  {
   "cell_type": "code",
   "execution_count": 3,
   "metadata": {
    "scrolled": true
   },
   "outputs": [
    {
     "data": {
      "text/html": [
       "<div>\n",
       "<style scoped>\n",
       "    .dataframe tbody tr th:only-of-type {\n",
       "        vertical-align: middle;\n",
       "    }\n",
       "\n",
       "    .dataframe tbody tr th {\n",
       "        vertical-align: top;\n",
       "    }\n",
       "\n",
       "    .dataframe thead th {\n",
       "        text-align: right;\n",
       "    }\n",
       "</style>\n",
       "<table border=\"1\" class=\"dataframe\">\n",
       "  <thead>\n",
       "    <tr style=\"text-align: right;\">\n",
       "      <th></th>\n",
       "      <th>Date</th>\n",
       "      <th>Price</th>\n",
       "      <th>Open</th>\n",
       "      <th>High</th>\n",
       "      <th>Low</th>\n",
       "      <th>Vol.</th>\n",
       "      <th>Change %</th>\n",
       "    </tr>\n",
       "  </thead>\n",
       "  <tbody>\n",
       "    <tr>\n",
       "      <th>26</th>\n",
       "      <td>Dec 04, 2021</td>\n",
       "      <td>49,195.2</td>\n",
       "      <td>53,620.7</td>\n",
       "      <td>53,847.2</td>\n",
       "      <td>42,587.8</td>\n",
       "      <td>168.00K</td>\n",
       "      <td>-8.27%</td>\n",
       "    </tr>\n",
       "    <tr>\n",
       "      <th>27</th>\n",
       "      <td>Dec 03, 2021</td>\n",
       "      <td>53,631.5</td>\n",
       "      <td>56,495.2</td>\n",
       "      <td>57,543.6</td>\n",
       "      <td>52,008.9</td>\n",
       "      <td>89.20K</td>\n",
       "      <td>-5.07%</td>\n",
       "    </tr>\n",
       "    <tr>\n",
       "      <th>28</th>\n",
       "      <td>Dec 02, 2021</td>\n",
       "      <td>56,496.0</td>\n",
       "      <td>57,207.8</td>\n",
       "      <td>57,377.5</td>\n",
       "      <td>55,807.9</td>\n",
       "      <td>54.94K</td>\n",
       "      <td>-1.25%</td>\n",
       "    </tr>\n",
       "    <tr>\n",
       "      <th>29</th>\n",
       "      <td>Dec 01, 2021</td>\n",
       "      <td>57,210.3</td>\n",
       "      <td>56,891.7</td>\n",
       "      <td>59,064.3</td>\n",
       "      <td>56,496.5</td>\n",
       "      <td>66.75K</td>\n",
       "      <td>0.58%</td>\n",
       "    </tr>\n",
       "    <tr>\n",
       "      <th>30</th>\n",
       "      <td>Nov 30, 2021</td>\n",
       "      <td>56,882.9</td>\n",
       "      <td>57,795.2</td>\n",
       "      <td>59,174.4</td>\n",
       "      <td>55,936.9</td>\n",
       "      <td>73.66K</td>\n",
       "      <td>-1.58%</td>\n",
       "    </tr>\n",
       "  </tbody>\n",
       "</table>\n",
       "</div>"
      ],
      "text/plain": [
       "            Date     Price      Open      High       Low     Vol. Change %\n",
       "26  Dec 04, 2021  49,195.2  53,620.7  53,847.2  42,587.8  168.00K   -8.27%\n",
       "27  Dec 03, 2021  53,631.5  56,495.2  57,543.6  52,008.9   89.20K   -5.07%\n",
       "28  Dec 02, 2021  56,496.0  57,207.8  57,377.5  55,807.9   54.94K   -1.25%\n",
       "29  Dec 01, 2021  57,210.3  56,891.7  59,064.3  56,496.5   66.75K    0.58%\n",
       "30  Nov 30, 2021  56,882.9  57,795.2  59,174.4  55,936.9   73.66K   -1.58%"
      ]
     },
     "execution_count": 3,
     "metadata": {},
     "output_type": "execute_result"
    }
   ],
   "source": [
    "data.tail()"
   ]
  },
  {
   "cell_type": "code",
   "execution_count": 4,
   "metadata": {
    "scrolled": true
   },
   "outputs": [
    {
     "name": "stdout",
     "output_type": "stream",
     "text": [
      "<class 'pandas.core.frame.DataFrame'>\n",
      "Int64Index: 31 entries, 0 to 30\n",
      "Data columns (total 7 columns):\n",
      " #   Column    Non-Null Count  Dtype \n",
      "---  ------    --------------  ----- \n",
      " 0   Date      31 non-null     object\n",
      " 1   Price     31 non-null     object\n",
      " 2   Open      31 non-null     object\n",
      " 3   High      31 non-null     object\n",
      " 4   Low       31 non-null     object\n",
      " 5   Vol.      31 non-null     object\n",
      " 6   Change %  31 non-null     object\n",
      "dtypes: object(7)\n",
      "memory usage: 1.9+ KB\n"
     ]
    }
   ],
   "source": [
    "data.info()"
   ]
  },
  {
   "cell_type": "code",
   "execution_count": 6,
   "metadata": {},
   "outputs": [
    {
     "data": {
      "text/html": [
       "<div>\n",
       "<style scoped>\n",
       "    .dataframe tbody tr th:only-of-type {\n",
       "        vertical-align: middle;\n",
       "    }\n",
       "\n",
       "    .dataframe tbody tr th {\n",
       "        vertical-align: top;\n",
       "    }\n",
       "\n",
       "    .dataframe thead th {\n",
       "        text-align: right;\n",
       "    }\n",
       "</style>\n",
       "<table border=\"1\" class=\"dataframe\">\n",
       "  <thead>\n",
       "    <tr style=\"text-align: right;\">\n",
       "      <th></th>\n",
       "      <th>Date</th>\n",
       "      <th>Price</th>\n",
       "      <th>Open</th>\n",
       "      <th>High</th>\n",
       "      <th>Low</th>\n",
       "      <th>Vol.</th>\n",
       "      <th>Change %</th>\n",
       "    </tr>\n",
       "  </thead>\n",
       "  <tbody>\n",
       "    <tr>\n",
       "      <th>count</th>\n",
       "      <td>31</td>\n",
       "      <td>31</td>\n",
       "      <td>31</td>\n",
       "      <td>31</td>\n",
       "      <td>31</td>\n",
       "      <td>31</td>\n",
       "      <td>31</td>\n",
       "    </tr>\n",
       "    <tr>\n",
       "      <th>unique</th>\n",
       "      <td>31</td>\n",
       "      <td>31</td>\n",
       "      <td>31</td>\n",
       "      <td>31</td>\n",
       "      <td>31</td>\n",
       "      <td>31</td>\n",
       "      <td>31</td>\n",
       "    </tr>\n",
       "    <tr>\n",
       "      <th>top</th>\n",
       "      <td>Dec 30, 2021</td>\n",
       "      <td>47,678.4</td>\n",
       "      <td>46,470.7</td>\n",
       "      <td>47,730.8</td>\n",
       "      <td>46,003.0</td>\n",
       "      <td>65.84K</td>\n",
       "      <td>2.62%</td>\n",
       "    </tr>\n",
       "    <tr>\n",
       "      <th>freq</th>\n",
       "      <td>1</td>\n",
       "      <td>1</td>\n",
       "      <td>1</td>\n",
       "      <td>1</td>\n",
       "      <td>1</td>\n",
       "      <td>1</td>\n",
       "      <td>1</td>\n",
       "    </tr>\n",
       "  </tbody>\n",
       "</table>\n",
       "</div>"
      ],
      "text/plain": [
       "                Date     Price      Open      High       Low    Vol. Change %\n",
       "count             31        31        31        31        31      31       31\n",
       "unique            31        31        31        31        31      31       31\n",
       "top     Dec 30, 2021  47,678.4  46,470.7  47,730.8  46,003.0  65.84K    2.62%\n",
       "freq               1         1         1         1         1       1        1"
      ]
     },
     "execution_count": 6,
     "metadata": {},
     "output_type": "execute_result"
    }
   ],
   "source": [
    "data.describe()"
   ]
  },
  {
   "cell_type": "code",
   "execution_count": 7,
   "metadata": {
    "scrolled": true
   },
   "outputs": [
    {
     "data": {
      "text/plain": [
       "(31, 7)"
      ]
     },
     "execution_count": 7,
     "metadata": {},
     "output_type": "execute_result"
    }
   ],
   "source": [
    "data.shape"
   ]
  },
  {
   "cell_type": "code",
   "execution_count": 8,
   "metadata": {},
   "outputs": [
    {
     "data": {
      "text/html": [
       "<div>\n",
       "<style scoped>\n",
       "    .dataframe tbody tr th:only-of-type {\n",
       "        vertical-align: middle;\n",
       "    }\n",
       "\n",
       "    .dataframe tbody tr th {\n",
       "        vertical-align: top;\n",
       "    }\n",
       "\n",
       "    .dataframe thead th {\n",
       "        text-align: right;\n",
       "    }\n",
       "</style>\n",
       "<table border=\"1\" class=\"dataframe\">\n",
       "  <thead>\n",
       "    <tr style=\"text-align: right;\">\n",
       "      <th></th>\n",
       "      <th>Date</th>\n",
       "      <th>Price</th>\n",
       "      <th>Open</th>\n",
       "      <th>High</th>\n",
       "      <th>Low</th>\n",
       "      <th>Vol.</th>\n",
       "      <th>Change %</th>\n",
       "    </tr>\n",
       "  </thead>\n",
       "  <tbody>\n",
       "    <tr>\n",
       "      <th>0</th>\n",
       "      <td>Dec 30, 2021</td>\n",
       "      <td>47,678.4</td>\n",
       "      <td>46,470.7</td>\n",
       "      <td>47,730.8</td>\n",
       "      <td>46,003.0</td>\n",
       "      <td>65.84K</td>\n",
       "      <td>2.62%</td>\n",
       "    </tr>\n",
       "    <tr>\n",
       "      <th>1</th>\n",
       "      <td>Dec 29, 2021</td>\n",
       "      <td>46,461.7</td>\n",
       "      <td>47,548.4</td>\n",
       "      <td>48,121.7</td>\n",
       "      <td>46,127.8</td>\n",
       "      <td>63.92K</td>\n",
       "      <td>-2.28%</td>\n",
       "    </tr>\n",
       "    <tr>\n",
       "      <th>2</th>\n",
       "      <td>Dec 28, 2021</td>\n",
       "      <td>47,545.2</td>\n",
       "      <td>50,703.4</td>\n",
       "      <td>50,703.8</td>\n",
       "      <td>47,345.7</td>\n",
       "      <td>74.39K</td>\n",
       "      <td>-6.18%</td>\n",
       "    </tr>\n",
       "    <tr>\n",
       "      <th>3</th>\n",
       "      <td>Dec 27, 2021</td>\n",
       "      <td>50,678.2</td>\n",
       "      <td>50,783.6</td>\n",
       "      <td>52,016.3</td>\n",
       "      <td>50,459.0</td>\n",
       "      <td>43.90K</td>\n",
       "      <td>-0.20%</td>\n",
       "    </tr>\n",
       "    <tr>\n",
       "      <th>4</th>\n",
       "      <td>Dec 26, 2021</td>\n",
       "      <td>50,779.9</td>\n",
       "      <td>50,404.0</td>\n",
       "      <td>51,247.0</td>\n",
       "      <td>49,527.0</td>\n",
       "      <td>32.34K</td>\n",
       "      <td>0.74%</td>\n",
       "    </tr>\n",
       "    <tr>\n",
       "      <th>5</th>\n",
       "      <td>Dec 25, 2021</td>\n",
       "      <td>50,406.4</td>\n",
       "      <td>50,789.6</td>\n",
       "      <td>51,140.2</td>\n",
       "      <td>50,196.8</td>\n",
       "      <td>26.67K</td>\n",
       "      <td>-0.75%</td>\n",
       "    </tr>\n",
       "    <tr>\n",
       "      <th>6</th>\n",
       "      <td>Dec 24, 2021</td>\n",
       "      <td>50,786.1</td>\n",
       "      <td>50,807.4</td>\n",
       "      <td>51,795.3</td>\n",
       "      <td>50,428.4</td>\n",
       "      <td>45.97K</td>\n",
       "      <td>-0.03%</td>\n",
       "    </tr>\n",
       "    <tr>\n",
       "      <th>7</th>\n",
       "      <td>Dec 23, 2021</td>\n",
       "      <td>50,801.0</td>\n",
       "      <td>48,599.6</td>\n",
       "      <td>51,355.6</td>\n",
       "      <td>48,053.4</td>\n",
       "      <td>56.24K</td>\n",
       "      <td>4.53%</td>\n",
       "    </tr>\n",
       "    <tr>\n",
       "      <th>8</th>\n",
       "      <td>Dec 22, 2021</td>\n",
       "      <td>48,599.7</td>\n",
       "      <td>48,898.7</td>\n",
       "      <td>49,540.3</td>\n",
       "      <td>48,449.7</td>\n",
       "      <td>40.89K</td>\n",
       "      <td>-0.62%</td>\n",
       "    </tr>\n",
       "    <tr>\n",
       "      <th>9</th>\n",
       "      <td>Dec 21, 2021</td>\n",
       "      <td>48,902.0</td>\n",
       "      <td>46,900.1</td>\n",
       "      <td>49,306.1</td>\n",
       "      <td>46,654.0</td>\n",
       "      <td>57.88K</td>\n",
       "      <td>4.28%</td>\n",
       "    </tr>\n",
       "    <tr>\n",
       "      <th>10</th>\n",
       "      <td>Dec 20, 2021</td>\n",
       "      <td>46,895.2</td>\n",
       "      <td>46,703.4</td>\n",
       "      <td>47,488.9</td>\n",
       "      <td>45,577.3</td>\n",
       "      <td>57.53K</td>\n",
       "      <td>0.41%</td>\n",
       "    </tr>\n",
       "    <tr>\n",
       "      <th>11</th>\n",
       "      <td>Dec 19, 2021</td>\n",
       "      <td>46,704.5</td>\n",
       "      <td>46,855.7</td>\n",
       "      <td>48,270.2</td>\n",
       "      <td>46,438.4</td>\n",
       "      <td>44.05K</td>\n",
       "      <td>-0.32%</td>\n",
       "    </tr>\n",
       "    <tr>\n",
       "      <th>12</th>\n",
       "      <td>Dec 18, 2021</td>\n",
       "      <td>46,856.2</td>\n",
       "      <td>46,171.8</td>\n",
       "      <td>47,330.2</td>\n",
       "      <td>45,513.4</td>\n",
       "      <td>36.93K</td>\n",
       "      <td>1.48%</td>\n",
       "    </tr>\n",
       "    <tr>\n",
       "      <th>13</th>\n",
       "      <td>Dec 17, 2021</td>\n",
       "      <td>46,172.2</td>\n",
       "      <td>47,630.4</td>\n",
       "      <td>47,997.2</td>\n",
       "      <td>45,523.8</td>\n",
       "      <td>67.50K</td>\n",
       "      <td>-3.06%</td>\n",
       "    </tr>\n",
       "    <tr>\n",
       "      <th>14</th>\n",
       "      <td>Dec 16, 2021</td>\n",
       "      <td>47,628.2</td>\n",
       "      <td>48,876.6</td>\n",
       "      <td>49,387.8</td>\n",
       "      <td>47,543.9</td>\n",
       "      <td>48.20K</td>\n",
       "      <td>-2.54%</td>\n",
       "    </tr>\n",
       "    <tr>\n",
       "      <th>15</th>\n",
       "      <td>Dec 15, 2021</td>\n",
       "      <td>48,871.5</td>\n",
       "      <td>48,366.2</td>\n",
       "      <td>49,477.9</td>\n",
       "      <td>46,572.6</td>\n",
       "      <td>80.28K</td>\n",
       "      <td>1.04%</td>\n",
       "    </tr>\n",
       "    <tr>\n",
       "      <th>16</th>\n",
       "      <td>Dec 14, 2021</td>\n",
       "      <td>48,366.5</td>\n",
       "      <td>46,709.8</td>\n",
       "      <td>48,635.0</td>\n",
       "      <td>46,338.3</td>\n",
       "      <td>62.54K</td>\n",
       "      <td>3.56%</td>\n",
       "    </tr>\n",
       "    <tr>\n",
       "      <th>17</th>\n",
       "      <td>Dec 13, 2021</td>\n",
       "      <td>46,703.6</td>\n",
       "      <td>50,075.9</td>\n",
       "      <td>50,196.1</td>\n",
       "      <td>45,848.2</td>\n",
       "      <td>80.37K</td>\n",
       "      <td>-6.74%</td>\n",
       "    </tr>\n",
       "    <tr>\n",
       "      <th>18</th>\n",
       "      <td>Dec 12, 2021</td>\n",
       "      <td>50,081.0</td>\n",
       "      <td>49,332.5</td>\n",
       "      <td>50,779.2</td>\n",
       "      <td>48,670.5</td>\n",
       "      <td>40.30K</td>\n",
       "      <td>1.55%</td>\n",
       "    </tr>\n",
       "    <tr>\n",
       "      <th>19</th>\n",
       "      <td>Dec 11, 2021</td>\n",
       "      <td>49,314.5</td>\n",
       "      <td>47,138.4</td>\n",
       "      <td>49,487.0</td>\n",
       "      <td>46,834.0</td>\n",
       "      <td>45.23K</td>\n",
       "      <td>4.62%</td>\n",
       "    </tr>\n",
       "    <tr>\n",
       "      <th>20</th>\n",
       "      <td>Dec 10, 2021</td>\n",
       "      <td>47,137.2</td>\n",
       "      <td>47,591.7</td>\n",
       "      <td>49,974.8</td>\n",
       "      <td>47,007.1</td>\n",
       "      <td>68.06K</td>\n",
       "      <td>-0.97%</td>\n",
       "    </tr>\n",
       "    <tr>\n",
       "      <th>21</th>\n",
       "      <td>Dec 09, 2021</td>\n",
       "      <td>47,596.6</td>\n",
       "      <td>50,477.6</td>\n",
       "      <td>50,790.2</td>\n",
       "      <td>47,341.9</td>\n",
       "      <td>58.69K</td>\n",
       "      <td>-5.70%</td>\n",
       "    </tr>\n",
       "    <tr>\n",
       "      <th>22</th>\n",
       "      <td>Dec 08, 2021</td>\n",
       "      <td>50,473.9</td>\n",
       "      <td>50,596.6</td>\n",
       "      <td>51,204.7</td>\n",
       "      <td>48,700.7</td>\n",
       "      <td>55.59K</td>\n",
       "      <td>-0.24%</td>\n",
       "    </tr>\n",
       "    <tr>\n",
       "      <th>23</th>\n",
       "      <td>Dec 07, 2021</td>\n",
       "      <td>50,595.2</td>\n",
       "      <td>50,547.4</td>\n",
       "      <td>51,918.6</td>\n",
       "      <td>50,070.9</td>\n",
       "      <td>56.29K</td>\n",
       "      <td>0.07%</td>\n",
       "    </tr>\n",
       "    <tr>\n",
       "      <th>24</th>\n",
       "      <td>Dec 06, 2021</td>\n",
       "      <td>50,562.1</td>\n",
       "      <td>49,412.1</td>\n",
       "      <td>50,913.3</td>\n",
       "      <td>47,237.9</td>\n",
       "      <td>89.68K</td>\n",
       "      <td>2.34%</td>\n",
       "    </tr>\n",
       "    <tr>\n",
       "      <th>25</th>\n",
       "      <td>Dec 05, 2021</td>\n",
       "      <td>49,405.5</td>\n",
       "      <td>49,196.4</td>\n",
       "      <td>49,689.3</td>\n",
       "      <td>47,797.8</td>\n",
       "      <td>72.03K</td>\n",
       "      <td>0.43%</td>\n",
       "    </tr>\n",
       "    <tr>\n",
       "      <th>26</th>\n",
       "      <td>Dec 04, 2021</td>\n",
       "      <td>49,195.2</td>\n",
       "      <td>53,620.7</td>\n",
       "      <td>53,847.2</td>\n",
       "      <td>42,587.8</td>\n",
       "      <td>168.00K</td>\n",
       "      <td>-8.27%</td>\n",
       "    </tr>\n",
       "    <tr>\n",
       "      <th>27</th>\n",
       "      <td>Dec 03, 2021</td>\n",
       "      <td>53,631.5</td>\n",
       "      <td>56,495.2</td>\n",
       "      <td>57,543.6</td>\n",
       "      <td>52,008.9</td>\n",
       "      <td>89.20K</td>\n",
       "      <td>-5.07%</td>\n",
       "    </tr>\n",
       "    <tr>\n",
       "      <th>28</th>\n",
       "      <td>Dec 02, 2021</td>\n",
       "      <td>56,496.0</td>\n",
       "      <td>57,207.8</td>\n",
       "      <td>57,377.5</td>\n",
       "      <td>55,807.9</td>\n",
       "      <td>54.94K</td>\n",
       "      <td>-1.25%</td>\n",
       "    </tr>\n",
       "    <tr>\n",
       "      <th>29</th>\n",
       "      <td>Dec 01, 2021</td>\n",
       "      <td>57,210.3</td>\n",
       "      <td>56,891.7</td>\n",
       "      <td>59,064.3</td>\n",
       "      <td>56,496.5</td>\n",
       "      <td>66.75K</td>\n",
       "      <td>0.58%</td>\n",
       "    </tr>\n",
       "    <tr>\n",
       "      <th>30</th>\n",
       "      <td>Nov 30, 2021</td>\n",
       "      <td>56,882.9</td>\n",
       "      <td>57,795.2</td>\n",
       "      <td>59,174.4</td>\n",
       "      <td>55,936.9</td>\n",
       "      <td>73.66K</td>\n",
       "      <td>-1.58%</td>\n",
       "    </tr>\n",
       "  </tbody>\n",
       "</table>\n",
       "</div>"
      ],
      "text/plain": [
       "            Date     Price      Open      High       Low     Vol. Change %\n",
       "0   Dec 30, 2021  47,678.4  46,470.7  47,730.8  46,003.0   65.84K    2.62%\n",
       "1   Dec 29, 2021  46,461.7  47,548.4  48,121.7  46,127.8   63.92K   -2.28%\n",
       "2   Dec 28, 2021  47,545.2  50,703.4  50,703.8  47,345.7   74.39K   -6.18%\n",
       "3   Dec 27, 2021  50,678.2  50,783.6  52,016.3  50,459.0   43.90K   -0.20%\n",
       "4   Dec 26, 2021  50,779.9  50,404.0  51,247.0  49,527.0   32.34K    0.74%\n",
       "5   Dec 25, 2021  50,406.4  50,789.6  51,140.2  50,196.8   26.67K   -0.75%\n",
       "6   Dec 24, 2021  50,786.1  50,807.4  51,795.3  50,428.4   45.97K   -0.03%\n",
       "7   Dec 23, 2021  50,801.0  48,599.6  51,355.6  48,053.4   56.24K    4.53%\n",
       "8   Dec 22, 2021  48,599.7  48,898.7  49,540.3  48,449.7   40.89K   -0.62%\n",
       "9   Dec 21, 2021  48,902.0  46,900.1  49,306.1  46,654.0   57.88K    4.28%\n",
       "10  Dec 20, 2021  46,895.2  46,703.4  47,488.9  45,577.3   57.53K    0.41%\n",
       "11  Dec 19, 2021  46,704.5  46,855.7  48,270.2  46,438.4   44.05K   -0.32%\n",
       "12  Dec 18, 2021  46,856.2  46,171.8  47,330.2  45,513.4   36.93K    1.48%\n",
       "13  Dec 17, 2021  46,172.2  47,630.4  47,997.2  45,523.8   67.50K   -3.06%\n",
       "14  Dec 16, 2021  47,628.2  48,876.6  49,387.8  47,543.9   48.20K   -2.54%\n",
       "15  Dec 15, 2021  48,871.5  48,366.2  49,477.9  46,572.6   80.28K    1.04%\n",
       "16  Dec 14, 2021  48,366.5  46,709.8  48,635.0  46,338.3   62.54K    3.56%\n",
       "17  Dec 13, 2021  46,703.6  50,075.9  50,196.1  45,848.2   80.37K   -6.74%\n",
       "18  Dec 12, 2021  50,081.0  49,332.5  50,779.2  48,670.5   40.30K    1.55%\n",
       "19  Dec 11, 2021  49,314.5  47,138.4  49,487.0  46,834.0   45.23K    4.62%\n",
       "20  Dec 10, 2021  47,137.2  47,591.7  49,974.8  47,007.1   68.06K   -0.97%\n",
       "21  Dec 09, 2021  47,596.6  50,477.6  50,790.2  47,341.9   58.69K   -5.70%\n",
       "22  Dec 08, 2021  50,473.9  50,596.6  51,204.7  48,700.7   55.59K   -0.24%\n",
       "23  Dec 07, 2021  50,595.2  50,547.4  51,918.6  50,070.9   56.29K    0.07%\n",
       "24  Dec 06, 2021  50,562.1  49,412.1  50,913.3  47,237.9   89.68K    2.34%\n",
       "25  Dec 05, 2021  49,405.5  49,196.4  49,689.3  47,797.8   72.03K    0.43%\n",
       "26  Dec 04, 2021  49,195.2  53,620.7  53,847.2  42,587.8  168.00K   -8.27%\n",
       "27  Dec 03, 2021  53,631.5  56,495.2  57,543.6  52,008.9   89.20K   -5.07%\n",
       "28  Dec 02, 2021  56,496.0  57,207.8  57,377.5  55,807.9   54.94K   -1.25%\n",
       "29  Dec 01, 2021  57,210.3  56,891.7  59,064.3  56,496.5   66.75K    0.58%\n",
       "30  Nov 30, 2021  56,882.9  57,795.2  59,174.4  55,936.9   73.66K   -1.58%"
      ]
     },
     "execution_count": 8,
     "metadata": {},
     "output_type": "execute_result"
    }
   ],
   "source": [
    "data"
   ]
  },
  {
   "cell_type": "code",
   "execution_count": 9,
   "metadata": {},
   "outputs": [],
   "source": [
    "def to_value(data):\n",
    "    data = data[:-1]\n",
    "    return data\n",
    "\n",
    "def comma_remove(data):\n",
    "    data=data.replace(',','')\n",
    "    return data"
   ]
  },
  {
   "cell_type": "code",
   "execution_count": 10,
   "metadata": {
    "scrolled": true
   },
   "outputs": [],
   "source": [
    "data['Open'] = data['Open'].apply(comma_remove)\n",
    "data['Price'] = data['Price'].apply(comma_remove)\n",
    "data['High'] = data['High'].apply(comma_remove)\n",
    "data['Low'] = data['Low'].apply(comma_remove)"
   ]
  },
  {
   "cell_type": "code",
   "execution_count": 11,
   "metadata": {},
   "outputs": [
    {
     "name": "stderr",
     "output_type": "stream",
     "text": [
      "C:\\Users\\User\\AppData\\Local\\Temp/ipykernel_17624/3773487047.py:1: FutureWarning: In a future version of pandas all arguments of DataFrame.drop except for the argument 'labels' will be keyword-only\n",
      "  data.drop(['Date','Vol.','Change %'],1,inplace = True)\n"
     ]
    }
   ],
   "source": [
    "data.drop(['Date','Vol.','Change %'],1,inplace = True)"
   ]
  },
  {
   "cell_type": "code",
   "execution_count": 12,
   "metadata": {},
   "outputs": [],
   "source": [
    "for i in data.columns.to_list():\n",
    "    data[i]  = data[i].astype('float')"
   ]
  },
  {
   "cell_type": "code",
   "execution_count": 13,
   "metadata": {
    "scrolled": true
   },
   "outputs": [
    {
     "name": "stdout",
     "output_type": "stream",
     "text": [
      "<class 'pandas.core.frame.DataFrame'>\n",
      "Int64Index: 31 entries, 0 to 30\n",
      "Data columns (total 4 columns):\n",
      " #   Column  Non-Null Count  Dtype  \n",
      "---  ------  --------------  -----  \n",
      " 0   Price   31 non-null     float64\n",
      " 1   Open    31 non-null     float64\n",
      " 2   High    31 non-null     float64\n",
      " 3   Low     31 non-null     float64\n",
      "dtypes: float64(4)\n",
      "memory usage: 1.2 KB\n"
     ]
    }
   ],
   "source": [
    "data.info()"
   ]
  },
  {
   "cell_type": "code",
   "execution_count": 14,
   "metadata": {},
   "outputs": [
    {
     "name": "stdout",
     "output_type": "stream",
     "text": [
      "<class 'pandas.core.frame.DataFrame'>\n",
      "Int64Index: 31 entries, 0 to 30\n",
      "Data columns (total 4 columns):\n",
      " #   Column  Non-Null Count  Dtype  \n",
      "---  ------  --------------  -----  \n",
      " 0   Price   31 non-null     float64\n",
      " 1   Open    31 non-null     float64\n",
      " 2   High    31 non-null     float64\n",
      " 3   Low     31 non-null     float64\n",
      "dtypes: float64(4)\n",
      "memory usage: 1.2 KB\n"
     ]
    }
   ],
   "source": [
    "data.info()"
   ]
  },
  {
   "cell_type": "code",
   "execution_count": 15,
   "metadata": {},
   "outputs": [
    {
     "data": {
      "text/html": [
       "<div>\n",
       "<style scoped>\n",
       "    .dataframe tbody tr th:only-of-type {\n",
       "        vertical-align: middle;\n",
       "    }\n",
       "\n",
       "    .dataframe tbody tr th {\n",
       "        vertical-align: top;\n",
       "    }\n",
       "\n",
       "    .dataframe thead th {\n",
       "        text-align: right;\n",
       "    }\n",
       "</style>\n",
       "<table border=\"1\" class=\"dataframe\">\n",
       "  <thead>\n",
       "    <tr style=\"text-align: right;\">\n",
       "      <th></th>\n",
       "      <th>Open</th>\n",
       "      <th>Price</th>\n",
       "      <th>High</th>\n",
       "      <th>Low</th>\n",
       "    </tr>\n",
       "  </thead>\n",
       "  <tbody>\n",
       "    <tr>\n",
       "      <th>0</th>\n",
       "      <td>46470.7</td>\n",
       "      <td>47678.4</td>\n",
       "      <td>47730.8</td>\n",
       "      <td>46003.0</td>\n",
       "    </tr>\n",
       "    <tr>\n",
       "      <th>1</th>\n",
       "      <td>47548.4</td>\n",
       "      <td>46461.7</td>\n",
       "      <td>48121.7</td>\n",
       "      <td>46127.8</td>\n",
       "    </tr>\n",
       "    <tr>\n",
       "      <th>2</th>\n",
       "      <td>50703.4</td>\n",
       "      <td>47545.2</td>\n",
       "      <td>50703.8</td>\n",
       "      <td>47345.7</td>\n",
       "    </tr>\n",
       "    <tr>\n",
       "      <th>3</th>\n",
       "      <td>50783.6</td>\n",
       "      <td>50678.2</td>\n",
       "      <td>52016.3</td>\n",
       "      <td>50459.0</td>\n",
       "    </tr>\n",
       "    <tr>\n",
       "      <th>4</th>\n",
       "      <td>50404.0</td>\n",
       "      <td>50779.9</td>\n",
       "      <td>51247.0</td>\n",
       "      <td>49527.0</td>\n",
       "    </tr>\n",
       "  </tbody>\n",
       "</table>\n",
       "</div>"
      ],
      "text/plain": [
       "      Open    Price     High      Low\n",
       "0  46470.7  47678.4  47730.8  46003.0\n",
       "1  47548.4  46461.7  48121.7  46127.8\n",
       "2  50703.4  47545.2  50703.8  47345.7\n",
       "3  50783.6  50678.2  52016.3  50459.0\n",
       "4  50404.0  50779.9  51247.0  49527.0"
      ]
     },
     "execution_count": 15,
     "metadata": {},
     "output_type": "execute_result"
    }
   ],
   "source": [
    "training_data = data[['Open','Price','High','Low']]\n",
    "training_data.head()"
   ]
  },
  {
   "cell_type": "code",
   "execution_count": 16,
   "metadata": {},
   "outputs": [],
   "source": [
    "import matplotlib.pyplot as plt"
   ]
  },
  {
   "cell_type": "code",
   "execution_count": 17,
   "metadata": {},
   "outputs": [
    {
     "name": "stderr",
     "output_type": "stream",
     "text": [
      "C:\\Users\\User\\Anaconda3\\envs\\eco\\lib\\site-packages\\seaborn\\_decorators.py:36: FutureWarning: Pass the following variable as a keyword arg: x. From version 0.12, the only valid positional argument will be `data`, and passing other arguments without an explicit keyword will result in an error or misinterpretation.\n",
      "  warnings.warn(\n"
     ]
    },
    {
     "data": {
      "image/png": "[encoded data removed]",
      "text/plain": [
       "<Figure size 432x288 with 1 Axes>"
      ]
     },
     "metadata": {
      "needs_background": "light"
     },
     "output_type": "display_data"
    },
    {
     "name": "stderr",
     "output_type": "stream",
     "text": [
      "C:\\Users\\User\\Anaconda3\\envs\\eco\\lib\\site-packages\\seaborn\\_decorators.py:36: FutureWarning: Pass the following variable as a keyword arg: x. From version 0.12, the only valid positional argument will be `data`, and passing other arguments without an explicit keyword will result in an error or misinterpretation.\n",
      "  warnings.warn(\n"
     ]
    },
    {
     "data": {
      "image/png": "[encoded data removed]",
      "text/plain": [
       "<Figure size 432x288 with 1 Axes>"
      ]
     },
     "metadata": {
      "needs_background": "light"
     },
     "output_type": "display_data"
    },
    {
     "name": "stderr",
     "output_type": "stream",
     "text": [
      "C:\\Users\\User\\Anaconda3\\envs\\eco\\lib\\site-packages\\seaborn\\_decorators.py:36: FutureWarning: Pass the following variable as a keyword arg: x. From version 0.12, the only valid positional argument will be `data`, and passing other arguments without an explicit keyword will result in an error or misinterpretation.\n",
      "  warnings.warn(\n"
     ]
    },
    {
     "data": {
      "image/png": "[encoded data removed]",
      "text/plain": [
       "<Figure size 432x288 with 1 Axes>"
      ]
     },
     "metadata": {
      "needs_background": "light"
     },
     "output_type": "display_data"
    },
    {
     "name": "stderr",
     "output_type": "stream",
     "text": [
      "C:\\Users\\User\\Anaconda3\\envs\\eco\\lib\\site-packages\\seaborn\\_decorators.py:36: FutureWarning: Pass the following variable as a keyword arg: x. From version 0.12, the only valid positional argument will be `data`, and passing other arguments without an explicit keyword will result in an error or misinterpretation.\n",
      "  warnings.warn(\n"
     ]
    },
    {
     "data": {
      "image/png": "[encoded data removed]",
      "text/plain": [
       "<Figure size 432x288 with 1 Axes>"
      ]
     },
     "metadata": {
      "needs_background": "light"
     },
     "output_type": "display_data"
    }
   ],
   "source": [
    "for i in ['Open','High','Low','Price']:\n",
    "    sns.boxplot(data[i])\n",
    "    plt.show()"
   ]
  },
  {
   "cell_type": "code",
   "execution_count": 18,
   "metadata": {
    "scrolled": true
   },
   "outputs": [
    {
     "data": {
      "text/plain": [
       "<AxesSubplot:>"
      ]
     },
     "execution_count": 18,
     "metadata": {},
     "output_type": "execute_result"
    },
    {
     "data": {
      "image/png": "[encoded data removed]",
      "text/plain": [
       "<Figure size 432x288 with 2 Axes>"
      ]
     },
     "metadata": {
      "needs_background": "light"
     },
     "output_type": "display_data"
    }
   ],
   "source": [
    "sns.heatmap(data.corr().round(7), annot=True)"
   ]
  },
  {
   "cell_type": "code",
   "execution_count": 19,
   "metadata": {},
   "outputs": [],
   "source": [
    "X_train, X_test, Y_train, Y_test = tts(training_data, data['Price'],train_size = 85/100,shuffle =False,random_state = 0 )"
   ]
  },
  {
   "cell_type": "code",
   "execution_count": 20,
   "metadata": {},
   "outputs": [
    {
     "data": {
      "text/plain": [
       "(5,)"
      ]
     },
     "execution_count": 20,
     "metadata": {},
     "output_type": "execute_result"
    }
   ],
   "source": [
    "Y_test.shape"
   ]
  },
  {
   "cell_type": "code",
   "execution_count": 21,
   "metadata": {},
   "outputs": [
    {
     "data": {
      "text/plain": [
       "LinearRegression()"
      ]
     },
     "execution_count": 21,
     "metadata": {},
     "output_type": "execute_result"
    }
   ],
   "source": [
    "from sklearn.linear_model import LinearRegression \n",
    "\n",
    "lr = LinearRegression()\n",
    "lr.fit(X_train, Y_train)"
   ]
  },
  {
   "cell_type": "code",
   "execution_count": 22,
   "metadata": {},
   "outputs": [
    {
     "data": {
      "text/plain": [
       "4.886728541851733e-23"
      ]
     },
     "execution_count": 22,
     "metadata": {},
     "output_type": "execute_result"
    }
   ],
   "source": [
    "mean_squared_error(lr.predict(X_train), Y_train)"
   ]
  },
  {
   "cell_type": "code",
   "execution_count": 23,
   "metadata": {},
   "outputs": [
    {
     "data": {
      "text/plain": [
       "3.176373552203626e-23"
      ]
     },
     "execution_count": 23,
     "metadata": {},
     "output_type": "execute_result"
    }
   ],
   "source": [
    "mean_squared_error(lr.predict(X_test), Y_test)"
   ]
  },
  {
   "cell_type": "markdown",
   "metadata": {},
   "source": [
    "#building svm"
   ]
  },
  {
   "cell_type": "code",
   "execution_count": 24,
   "metadata": {},
   "outputs": [],
   "source": [
    "from sklearn.svm import SVR"
   ]
  },
  {
   "cell_type": "code",
   "execution_count": 25,
   "metadata": {},
   "outputs": [
    {
     "data": {
      "text/plain": [
       "SVR(C=0.001, kernel='linear')"
      ]
     },
     "execution_count": 25,
     "metadata": {},
     "output_type": "execute_result"
    }
   ],
   "source": [
    "sv = SVR(C = 0.001,kernel = 'linear')\n",
    "sv.fit(X_train,Y_train)\n"
   ]
  },
  {
   "cell_type": "code",
   "execution_count": 26,
   "metadata": {},
   "outputs": [
    {
     "data": {
      "text/plain": [
       "array([49203.69942698, 53633.40374618, 56495.68046301, 57209.83939606,\n",
       "       56883.1773339 ])"
      ]
     },
     "execution_count": 26,
     "metadata": {},
     "output_type": "execute_result"
    }
   ],
   "source": [
    "sv.predict(X_test)"
   ]
  },
  {
   "cell_type": "code",
   "execution_count": 27,
   "metadata": {},
   "outputs": [
    {
     "data": {
      "text/plain": [
       "0.7141086849404257"
      ]
     },
     "execution_count": 27,
     "metadata": {},
     "output_type": "execute_result"
    }
   ],
   "source": [
    "mean_squared_error(sv.predict(X_train), Y_train)"
   ]
  },
  {
   "cell_type": "code",
   "execution_count": 28,
   "metadata": {},
   "outputs": [
    {
     "data": {
      "text/plain": [
       "15.251136478559985"
      ]
     },
     "execution_count": 28,
     "metadata": {},
     "output_type": "execute_result"
    }
   ],
   "source": [
    "mean_squared_error(sv.predict(X_test), Y_test)"
   ]
  },
  {
   "cell_type": "code",
   "execution_count": null,
   "metadata": {},
   "outputs": [],
   "source": []
  },
  {
   "cell_type": "code",
   "execution_count": null,
   "metadata": {},
   "outputs": [],
   "source": []
  },
  {
   "cell_type": "code",
   "execution_count": null,
   "metadata": {},
   "outputs": [],
   "source": []
  }
 ],
 "metadata": {
  "kernelspec": {
   "display_name": "Python 3 (ipykernel)",
   "language": "python",
   "name": "python3"
  },
  "language_info": {
   "codemirror_mode": {
    "name": "ipython",
    "version": 3
   },
   "file_extension": ".py",
   "mimetype": "text/x-python",
   "name": "python",
   "nbconvert_exporter": "python",
   "pygments_lexer": "ipython3",
   "version": "3.8.0"
  }
 },
 "nbformat": 4,
 "nbformat_minor": 2
}
